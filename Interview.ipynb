{
 "cells": [
  {
   "cell_type": "markdown",
   "id": "91d23be4",
   "metadata": {},
   "source": [
    "This Jupyter Notebook serves as an assessment center for coding skills in Python!\n",
    "It consists of two exercises that are meant to be solved within 15 minutes."
   ]
  },
  {
   "cell_type": "markdown",
   "id": "c5b7d796",
   "metadata": {},
   "source": [
    "### Question A\n",
    "bla bla bla"
   ]
  },
  {
   "cell_type": "code",
   "execution_count": null,
   "id": "ab403fe0",
   "metadata": {},
   "outputs": [],
   "source": []
  },
  {
   "cell_type": "markdown",
   "id": "e6a53508",
   "metadata": {},
   "source": [
    "### Question B\n",
    "even more bla bla"
   ]
  }
 ],
 "metadata": {
  "kernelspec": {
   "display_name": ".venv",
   "language": "python",
   "name": "python3"
  },
  "language_info": {
   "name": "python",
   "version": "3.11.9"
  }
 },
 "nbformat": 4,
 "nbformat_minor": 5
}
